{
 "cells": [
  {
   "cell_type": "markdown",
   "metadata": {},
   "source": [
    "# Projekt MSP1\n",
    "Cílem tohoto projektu je se seznámit s programovými nástroji využívaných ve statistice a osvojit si základní procedury. Projekt není primárně zaměřen na efektivitu využívání programového vybavení (i když úplně nevhodné konstrukce mohou mít vliv na hodnocení), ale nejvíce nás zajímají vaše statistické závěry a způsob vyhodnocení. Dbejte také na to, že každý graf musí splňovat nějaké podmínky - přehlednost, čitelnost, popisky.\n",
    "\n",
    "V projektu budete analyzovat časy běhu šesti různých konfigurací algoritmů. Ke každé konfiguraci vzniklo celkem 200 nezávislých běhů, jejichž logy máte k dispozici v souboru [logfiles.zip](logfiles.zip).\n",
    "\n",
    "Pokud nemáte rozchozené prostředí pro pro spouštění Jupyter notebooku, můžete využití službu [Google Colab](https://colab.google/). Jakákoliv spolupráce, sdílení řešení a podobně je zakázána!\n",
    "\n",
    "S případnými dotazy se obracejte na Vojtěcha Mrázka (mrazek@fit.vutbr.cz).\n",
    "\n",
    "__Odevzdání:__ tento soubor (není potřeba aby obsahoval výstupy skriptů) do neděle 22. 10. 2023 v IS VUT. Kontrola bude probíhat na Pythonu 3.10.12; neočekává se však to, že byste používali nějaké speciality a nekompatibilní knihovny. V případě nesouladu verzí a podobných problémů budete mít možnost reklamace a prokázání správnosti funkce. Bez vyplnění vašich komentářů a závěrů do označených buněk nebude projekt hodnocen!\n",
    "\n",
    "__Upozornění:__ nepřidávejte do notebooku další buňky, odpovídejte tam, kam se ptáme (textové komentáře do Markdown buněk)\n",
    "\n",
    "__Tip:__ před odevzdáním resetujte celý notebook a zkuste jej spustit od začátku. Zamezíte tak chybám krokování a editací, kdy výsledek z buňky na konci použijete na začátku."
   ]
  },
  {
   "cell_type": "markdown",
   "metadata": {},
   "source": [
    "__OTÁZKA K DOPLNĚNÍ:__\n",
    "\n",
    "_Jméno a login autora_ \\\n",
    "Pavel Heřmann (xherma34)"
   ]
  },
  {
   "cell_type": "markdown",
   "metadata": {},
   "source": [
    "## Načtení potřebných knihoven\n",
    "Načtěte knihovny, které jsou nutné pro zpracování souborů a práci se statistickými funkcemi. Není dovoleno načítat jiné knihovny."
   ]
  },
  {
   "cell_type": "code",
   "execution_count": 31,
   "metadata": {},
   "outputs": [],
   "source": [
    "import numpy as np\n",
    "import pandas as pd\n",
    "import matplotlib.pyplot as plt\n",
    "import scipy.stats as stats\n",
    "import seaborn as sns\n",
    "from zipfile import ZipFile"
   ]
  },
  {
   "cell_type": "markdown",
   "metadata": {},
   "source": [
    "## Načtení dat do DataFrame\n",
    "Ze souboru `logfiles.zip` umístěném ve stejném adresáři načtěte data a vytvořte Pandas DataFrame.\n",
    "\n",
    "Z logu vás budou nejvíce zajímat řádky\n",
    "```\n",
    "Configuration: config6\n",
    "Run: 191\n",
    "Time of run: 53.298725254089774\n",
    "```\n",
    "\n",
    "Můžete využít následující kostru - je vhodné pracovat přímo se ZIP souborem. Jedinou nevýhodou je to, že vám bude vracet _byte_ objekt, který musíte přes funkci `decode` zpracovat."
   ]
  },
  {
   "cell_type": "code",
   "execution_count": 32,
   "metadata": {},
   "outputs": [
    {
     "data": {
      "text/html": [
       "<div>\n",
       "<style scoped>\n",
       "    .dataframe tbody tr th:only-of-type {\n",
       "        vertical-align: middle;\n",
       "    }\n",
       "\n",
       "    .dataframe tbody tr th {\n",
       "        vertical-align: top;\n",
       "    }\n",
       "\n",
       "    .dataframe thead th {\n",
       "        text-align: right;\n",
       "    }\n",
       "</style>\n",
       "<table border=\"1\" class=\"dataframe\">\n",
       "  <thead>\n",
       "    <tr style=\"text-align: right;\">\n",
       "      <th></th>\n",
       "      <th>conf</th>\n",
       "      <th>run</th>\n",
       "      <th>time</th>\n",
       "    </tr>\n",
       "  </thead>\n",
       "  <tbody>\n",
       "    <tr>\n",
       "      <th>0</th>\n",
       "      <td>config1</td>\n",
       "      <td>0</td>\n",
       "      <td>104.967142</td>\n",
       "    </tr>\n",
       "    <tr>\n",
       "      <th>1</th>\n",
       "      <td>config1</td>\n",
       "      <td>1</td>\n",
       "      <td>98.617357</td>\n",
       "    </tr>\n",
       "    <tr>\n",
       "      <th>2</th>\n",
       "      <td>config1</td>\n",
       "      <td>2</td>\n",
       "      <td>106.476885</td>\n",
       "    </tr>\n",
       "    <tr>\n",
       "      <th>3</th>\n",
       "      <td>config1</td>\n",
       "      <td>3</td>\n",
       "      <td>115.230299</td>\n",
       "    </tr>\n",
       "    <tr>\n",
       "      <th>4</th>\n",
       "      <td>config1</td>\n",
       "      <td>4</td>\n",
       "      <td>97.658466</td>\n",
       "    </tr>\n",
       "    <tr>\n",
       "      <th>...</th>\n",
       "      <td>...</td>\n",
       "      <td>...</td>\n",
       "      <td>...</td>\n",
       "    </tr>\n",
       "    <tr>\n",
       "      <th>1195</th>\n",
       "      <td>config6</td>\n",
       "      <td>195</td>\n",
       "      <td>168.809495</td>\n",
       "    </tr>\n",
       "    <tr>\n",
       "      <th>1196</th>\n",
       "      <td>config6</td>\n",
       "      <td>196</td>\n",
       "      <td>159.607244</td>\n",
       "    </tr>\n",
       "    <tr>\n",
       "      <th>1197</th>\n",
       "      <td>config6</td>\n",
       "      <td>197</td>\n",
       "      <td>171.049799</td>\n",
       "    </tr>\n",
       "    <tr>\n",
       "      <th>1198</th>\n",
       "      <td>config6</td>\n",
       "      <td>198</td>\n",
       "      <td>164.478283</td>\n",
       "    </tr>\n",
       "    <tr>\n",
       "      <th>1199</th>\n",
       "      <td>config6</td>\n",
       "      <td>199</td>\n",
       "      <td>187.282809</td>\n",
       "    </tr>\n",
       "  </tbody>\n",
       "</table>\n",
       "<p>1200 rows × 3 columns</p>\n",
       "</div>"
      ],
      "text/plain": [
       "         conf  run        time\n",
       "0     config1    0  104.967142\n",
       "1     config1    1   98.617357\n",
       "2     config1    2  106.476885\n",
       "3     config1    3  115.230299\n",
       "4     config1    4   97.658466\n",
       "...       ...  ...         ...\n",
       "1195  config6  195  168.809495\n",
       "1196  config6  196  159.607244\n",
       "1197  config6  197  171.049799\n",
       "1198  config6  198  164.478283\n",
       "1199  config6  199  187.282809\n",
       "\n",
       "[1200 rows x 3 columns]"
      ]
     },
     "execution_count": 32,
     "metadata": {},
     "output_type": "execute_result"
    }
   ],
   "source": [
    "# TODO nacteni dat ze zip souboru\n",
    "\n",
    "def load_logfile(f) -> dict:\n",
    "    \"\"\"Load a logfile from a file-like object and return a dict with the data.\"\"\"\n",
    "    data = {\n",
    "        \"conf\": None,\n",
    "        \"run\": None,\n",
    "        \"time\": np.nan\n",
    "    }\n",
    "\n",
    "    for line in f:\n",
    "        line = line.decode(\"utf-8\")\n",
    "        x = line.split(\": \") \n",
    "        if x[0] == \"Configuration\" :\n",
    "            data[\"conf\"] = x[1][0:-1]\n",
    "        elif x[0] == \"Run\" :\n",
    "            data[\"run\"] = x[1][0:-1]\n",
    "        elif x[0] == \"Time of run\" :\n",
    "            data[\"time\"] = float(x[1][0:-1])\n",
    "        \n",
    "\n",
    "    \n",
    "    return data\n",
    "\n",
    "data = []\n",
    "with ZipFile(\"logfiles.zip\") as zf:\n",
    "    for filename in zf.namelist():\n",
    "        with zf.open(filename, \"r\") as f:\n",
    "            data.append(load_logfile(f))\n",
    "df = pd.DataFrame(data)\n",
    "df"
   ]
  },
  {
   "cell_type": "markdown",
   "metadata": {},
   "source": [
    "## Analýza a čištění dat\n",
    "Vhodným způsobem pro všechny konfigurace analyzujte časy běhů a pokud tam jsou, identifikujte hodnoty, které jsou chybné. "
   ]
  },
  {
   "cell_type": "code",
   "execution_count": 33,
   "metadata": {},
   "outputs": [
    {
     "data": {
      "image/png": "[encoded data removed]",
      "text/plain": [
       "<Figure size 600x400 with 1 Axes>"
      ]
     },
     "metadata": {},
     "output_type": "display_data"
    }
   ],
   "source": [
    "# TODO vykresleni grafu pro identifikace outlieru\n",
    "fig, ax = plt.subplots(figsize=(6,4))\n",
    "\n",
    "ax.hist(df[\"time\"], bins=250)\n",
    "ax.set(xlabel=\"Čas běhu\", ylabel=\"Četnost\")\n",
    "ax.set_title(\"Histogram časového rozložení běhů algoritmů\")\n",
    "\n",
    "# Z histogramu jde vidět, že se většina hodnot sdružuje kolem intervalu (0,cca300)\n",
    "# Dále máme pár běhů, které se nacházejí v histogarmu přesně u nuly a za 3500, tedy mimo většinu naměřených hodnot\n",
    "# Z grafu je tedy viditelné, že tyto hodnoty jsou \"chybné\"\n",
    "\n",
    "q1 = np.percentile(df[\"time\"], 25)\n",
    "q3 = np.percentile(df[\"time\"], 75)\n",
    "\n",
    "iqr = q3-q1\n",
    "\n",
    "timeMin = pd.Series(df[\"time\"])\n",
    "\n",
    "#Identifikace outlieru viz. prezentace 1. democviceni slide 25\n",
    "min = np.maximum(q1 - 1.5*iqr, timeMin.min())\n",
    "max = np.minimum(q3 + 1.5*iqr, timeMin.max())\n",
    "\n",
    "fig.savefig(\"ex1.png\")"
   ]
  },
  {
   "cell_type": "markdown",
   "metadata": {},
   "source": [
    "__OTÁZKA K DOPLNĚNÍ:__\n",
    "\n",
    "_Objevily se nějaké chybné hodnoty? Proč tam jsou s ohledem na to, že se jedná o běhy algoritmů?_ \\\n",
    "Chybné hodnoty se objevily, z grafu lze vidět, že nalevo od sdružení většiny naměřených hodnot byl čas běhu velice nízký (u nuly na x-ové ose) a napravo od sdružení byl čas běhu velice vysoký (3500+). Tyto hodnoty jsou vůči zbytku naměřených hodnot \"abnormální\".\\\n",
    "Tyto hodnoty indikují nějaké chybné běhy(ukončené chybou) tudíž vzhledem k ostatním běhům nejsou nijak významné."
   ]
  },
  {
   "cell_type": "markdown",
   "metadata": {},
   "source": [
    "Vyčistěte dataframe `df` tak, aby tam tyto hodnoty nebyly a ukažte znovu analýzu toho, že čištění dat bylo úspěšné. Odtud dále pracujte s vyčištěným datasetem."
   ]
  },
  {
   "cell_type": "code",
   "execution_count": 34,
   "metadata": {},
   "outputs": [
    {
     "data": {
      "image/png": "[encoded data removed]",
      "text/plain": [
       "<Figure size 300x400 with 1 Axes>"
      ]
     },
     "metadata": {},
     "output_type": "display_data"
    }
   ],
   "source": [
    "# TODO kod pro upravu dataframe tak, že tam tyto hodnoty nebudou:\n",
    "\n",
    "# V předchozím bloku jsme si vypočítali hodnoty min, max, které nám značí horní a spodní outlier\n",
    "# ty z data framu smažeme pomocí funkce drop\n",
    "df.drop(df[df['time'] > max].index, inplace = True)\n",
    "df.drop(df[df['time'] < min].index, inplace = True)\n",
    "\n",
    "\n",
    "fig2, ax2 = plt.subplots(figsize=(3,4))\n",
    "\n",
    "ax2.set(xlabel=\"Všechny konfigurace\", ylabel=\"Časové rozdělení\")\n",
    "ax2.set_title(\"Boxplot časového rozdělení všech konfiguraci po vymazání outlierů\")\n",
    "\n",
    "# Po odstranění těchto hodnot si lze všimnout, že na boxplot grafu se nenachází už žádný zaznačený outlier (smazali jsme vsechny outliery)\n",
    "ax2.boxplot(df[\"time\"])\n",
    "fig.savefig(\"ex2.png\")\n"
   ]
  },
  {
   "cell_type": "markdown",
   "metadata": {},
   "source": [
    "## Deskriptivní popis hodnot\n",
    "Vypište pro jednotlivé konfigurace základní deskriptivní parametry času pro jednotlivé konfigurace.  \n",
    "\n",
    "__TIP__ pokud výsledky uložíte jako Pandas DataFrame, zobrazí se v tabulce."
   ]
  },
  {
   "cell_type": "code",
   "execution_count": 35,
   "metadata": {},
   "outputs": [
    {
     "name": "stdout",
     "output_type": "stream",
     "text": [
      "             time        time        time        time        time        time\n",
      "count  193.000000  197.000000  195.000000  199.000000  195.000000  196.000000\n",
      "mean    99.590413  151.732975  138.616959  110.317016  182.930806  162.829359\n",
      "std      9.386788   19.833198   19.867428   30.656816   27.951560   20.648193\n",
      "min     73.802549   85.174653   90.567110   29.093401  107.283620  102.074892\n",
      "25%     92.979469  137.995662  124.803901   88.742158  163.751700  149.917475\n",
      "50%     99.865028  151.516091  138.678404  110.782732  182.883623  163.990098\n",
      "75%    104.824724  163.802880  151.536291  130.665606  200.350665  177.730865\n",
      "max    127.201692  227.054630  201.577616  188.971462  248.966944  208.795048\n"
     ]
    }
   ],
   "source": [
    "# TODO deskriptivni parametry\n",
    "\n",
    "df1 = df[df['conf'] == \"config1\"]\n",
    "df2 = df[df['conf'] == \"config2\"]\n",
    "df3 = df[df['conf'] == \"config3\"]\n",
    "df4 = df[df['conf'] == \"config4\"]\n",
    "df5 = df[df['conf'] == \"config5\"]\n",
    "df6 = df[df['conf'] == \"config6\"]\n",
    "\n",
    "df1_desc = df1.describe()\n",
    "df2_desc = df2.describe()\n",
    "df3_desc = df3.describe()\n",
    "df4_desc = df4.describe()\n",
    "df5_desc = df5.describe()\n",
    "df6_desc = df6.describe()\n",
    "\n",
    "dfTable = pd.concat([df1_desc, df2_desc, df3_desc, df4_desc, df5_desc, df6_desc], axis=1)\n",
    "\n",
    "print(dfTable)\n",
    "\n",
    "# print(\"1. konfigurace: \\n\", df1.describe())\n",
    "# print(\"2. konfigurace: \\n\", df2.describe())\n",
    "# print(\"3. konfigurace: \\n\", df3.describe())\n",
    "# print(\"4. konfigurace: \\n\", df4.describe())\n",
    "# print(\"5. konfigurace: \\n\", df5.describe())\n",
    "# print(\"6. konfigurace: \\n\", df6.describe())\n",
    "\n",
    "\n"
   ]
  },
  {
   "cell_type": "markdown",
   "metadata": {},
   "source": [
    "__OTÁZKA K DOPLNĚNÍ:__\n",
    "\n",
    "_Okomentujte, co všechno můžeme z parametrů vyčíst._\n",
    "\n",
    "**Interpretace parametrů** \n",
    "- count = Počet naměřených hodnot\n",
    "- mean = Průměrný čas běhu konfigurace\n",
    "- std = Rozptyl - značí jak moc jsou hodnoty rozmíštěny kolem průměru \n",
    "- min = Nejnižší naměřená hodnota\n",
    "- 25% = (percentil) značí, že 25% hodnot je menších než výsledná hodnota (25% = 100, 25% hodnot je menších než 100)\n",
    "- 50% = (Medián) hodnota rozděluje soubor naměřených dat uprostřed, značí tedy, že polovina naměřených hodnota je nad a polovina pod mediánem\n",
    "- 75% = (percentil) značí, že 75% hodnot je menších než výsledná hodnota (75% = 100, 75% hodnot je menších než 100)\n",
    "- max = Nejvyšší naměřená hodnota\n",
    "\n",
    "**Příklad: interpretace parametrů 1. Konfigurace** \\\n",
    "Počet naměřených hodnot(běhů algoritmu) je 193, z toho 99.5904s je průměrný čas běhu s odchylkou 9.3867, což znamená, že většina běhů je v rozmezí (99.5904-9.3867, 99.5904+9.3867). Nejrychlejší běh trval 73.8025s a nejpomalější běh trval 127.2017s. Dále 25% běhů algoritmu trvalo méně než 92.9795s, polovina běhů trvala méně než 99.865s a polovina déle než 99.865s, dále víme, že 75% běhů trvalo méně než 104.8247s.\n",
    "\n",
    "**Jak lze konfigurace porovnávat** \\\n",
    "Z těchto hodnot lze potom říci, která konfigurace v průměru je rychlejší/pomalejší. Pomocí rozptylu lze řici, která konfigurace bude mít větší výkyv v rychlosti vůči průměrnému času běhu, který má nejrychlejší/nejpomalejší běh a celkově jak jsou naměřené hodnoty rozděleny(např. ze srovnání kvartilů konfigurace 1 a 2 lze řici, že 1. konfigurace má celkově kvartilové rozdělení lepší(konfigurace bude nejspíše rychlejší) oproti 2. konfiguraci, protože například 3. kvarlit 1. konfigurace označuje, že 75% běhů byl rychlejší, než 104.8247s, zatímco v 2. konfiguraci už v 1. kvartilu vidíme, že 25% hodnot je rychlejších než 137.9956s. Což znamená, že 75% nejrychlejších běhů 1. konfigurace bylo rychlejší než 25% nejrychlejších běhů 2. konfigurace)."
   ]
  },
  {
   "cell_type": "markdown",
   "metadata": {},
   "source": [
    "## Vizualizace\n",
    "Vizualizujte časy běhů algoritmů v jednom kompaktním grafu tak, aby byl zřejmý i rozptyl hodnot. Zvolte vhodný graf, který pak níže komentujte."
   ]
  },
  {
   "cell_type": "code",
   "execution_count": 36,
   "metadata": {},
   "outputs": [
    {
     "data": {
      "image/png": "[encoded data removed]",
      "text/plain": [
       "<Figure size 600x400 with 1 Axes>"
      ]
     },
     "metadata": {},
     "output_type": "display_data"
    }
   ],
   "source": [
    "# TODO graf\n",
    "\n",
    "# Ulozeni pandas serie do arraye pro budouci pracovani\n",
    "timeArray1 = pd.Series(df1['time'])\n",
    "timeArray4 = pd.Series(df4['time'])\n",
    "\n",
    "# jednotlive konfigurace do box grafu\n",
    "fig3, ax3 = plt.subplots(figsize=(6,4))\n",
    "ax3.set(xlabel=\"Konfigurace\", ylabel=\"Časové rozdělení\")\n",
    "ax3.set_title(\"Boxplot časového rozdělení jednotlivých konfigurací\")\n",
    "\n",
    "#ax2.hist(df[\"time\"], bins = 80)\n",
    "ax3.boxplot([df1['time'], df2['time'], df3['time'], df4['time'], df5['time'], df6['time']])\n",
    "fig.savefig(\"ex3.png\")"
   ]
  },
  {
   "cell_type": "markdown",
   "metadata": {},
   "source": [
    "__OTÁZKA K DOPLNĚNÍ:__\n",
    "\n",
    "_Okomentujte  výsledky z tabulky._ \n",
    "\n",
    "**Co vidíme** \\\n",
    "Vidíme, že 1. konfigurace se zdá být rychlou s menším rozložením hodnot a celkem nízkým výkyvem abnormálních hodnot(outlier). Dále se dá 4. konfigurace považovat za celkem rychlou, protože její minimum je ještě níže, než 1. konfigurace, ovšem celkově má velký rozptyl času běhů, také lze vidět, že ve 4. konfiguraci oproti 1. konfiguraci nejsou žádné abnormální hodnoty. V porovnání s 1. a 4. konfigurací vidíme, že ostatní mají minimum výše než tyto dvě a celkově většina jejich hodnot je sdružovaná výše (běhy trvaly déle). Například 2. konfigurace má vysoké rozpětí otlierů, víme tedy, že obsahuje nějaké abnormálně vyšší a nižší hodnoty.\n",
    "Z konfigurací tedy dává smysl zkoumat 1. a 4. konfigurace."
   ]
  },
  {
   "cell_type": "markdown",
   "metadata": {},
   "source": [
    "## Určení efektivity konfigurací algoritmů\n",
    "Nás ale zajímá, jaká konfigurace je nejrychlejší. Z výše vykresleného grafu můžeme vyloučit některé konfigurace. Existuje tam však minimálně jedna dvojice, u které nedokážeme jednoznačně určit, která je lepší - pokud nebudeme porovnávat pouze extrémní hodnoty, které mohou být dané náhodou, ale celkově. Proto proveďte vhodný test významnosti - v následující části diskutujte zejména rozložení dat (i s odkazem na předchozí buňky, variabilitu vs polohu a podobně). Je nutné každý logický krok a výběry statistických funkcí komentovat. Můžete i přidat další buňky.\n",
    "\n",
    "Vužijte vhodnou funkci z knihovny `scipy.stats` a funkci poté __implementujte sami__ na základě základních matematických funkcí knihovny `numpy` případně i funkcí pro výpočet studentova rozložení v [scipy.stats](https://docs.scipy.org/doc/scipy/reference/generated/scipy.stats.t.html). Při vlastní implementaci není nutné se primárně soustředit na efektivitu výpočtu (není potřeba využít všechny funkce numpy, můžete použít normální cykly a podobně - v hodnocení však bude zahrnuta přehlednost a neměly by se objevit jasné chyby, jako je zvýšení třídy složitosti a podobně)."
   ]
  },
  {
   "cell_type": "markdown",
   "metadata": {},
   "source": [
    "__OTÁZKA K DOPLNĚNÍ:__\n",
    "\n",
    "_Jaká data budete zkoumat? Jaké mají rozložení a parametry (např. varianci) a jaký test použijete? Jaká je nulová hypotéza? Jak se liší variabilita a poloha vybraných konfigurací?_\n",
    "Budeme zkoumat 1. a 4. konfiguraci.\n",
    "Víme, že např. 4. konfigurace má menší minimum (menší čas nejrychlejšího běhu), 1. kvartli 4. konfigurace zahrnuje sice medián 1. konfigurace, ale jelikož je rozpětí hodnot u 4. konfigurace větší (má větší obor hodnot), nelze jasně říci, která je lepší. K určení nám pomůže nezávislý t-test.\n",
    "Nezávislý dvouvýběrový t-test dělá statistiku ze dvou souborů dat, kde tyto soubory jsou na sobě nezávislé, oba soubory mají různou velikost a mají různý rozptyl. Nulová hypotéza je potom, že 1. konfigurace je stejně dobrá nebo horší, než 4. konfigurace, výsledná p-hodnota z výpočtu nám potom pomůže zamítnout/nezamítnout nulovou hypotézu."
   ]
  },
  {
   "cell_type": "code",
   "execution_count": 37,
   "metadata": {},
   "outputs": [
    {
     "name": "stdout",
     "output_type": "stream",
     "text": [
      "TtestResult(statistic=-4.713292868840319, pvalue=2.0843410569946737e-06, df=235.8572821440884)\n"
     ]
    }
   ],
   "source": [
    "# TODO: Implementace s vyuzitim knihovni funkce\n",
    "# hypoteza: conf1 je stejne dobra nebo horsi nez conf4\n",
    "# p-value < 0.05 -> s vernosti 95% zamitam hypotezu\n",
    "# dvouvyberovy ttest mezi dvema nezavislymi skupinami (rozlisna velikost a rozlisnou varianci)\n",
    "\n",
    "print(stats.ttest_ind(timeArray1, timeArray4, equal_var=False, alternative=\"less\"))\n",
    "\n"
   ]
  },
  {
   "cell_type": "markdown",
   "metadata": {},
   "source": [
    "__OTÁZKA K DOPLNĚNÍ:__\n",
    "\n",
    "_Jaký je závěr statistického testu?_ \\\n",
    "P-hodnota je 0,000002.... \\\n",
    "P-hodnota < 0.05 => Zamítáme nulovou hypotézu, že je 1. konfigurace stejně dobrá nebo horší než 4. konfigurace a tedy musí platit alternativní hypotéza, že 4. konfigurace je lepší, než 1. konfigurace."
   ]
  },
  {
   "cell_type": "code",
   "execution_count": 38,
   "metadata": {},
   "outputs": [
    {
     "name": "stdout",
     "output_type": "stream",
     "text": [
      "t-statistika:  -4.713292868840319\n",
      "Dof:  201.58800100071852\n",
      "P-hodnota:  2.2697076502411656e-06\n"
     ]
    }
   ],
   "source": [
    "# TODO vlastni implementace zvoleneho testu\n",
    "\n",
    "s1 = np.var(timeArray1, ddof=1)\n",
    "s2 = np.var(timeArray4, ddof=1)\n",
    "x1 = np.mean(timeArray1)\n",
    "x2 = np.mean(timeArray4)\n",
    "n1 = len(timeArray1)\n",
    "n2 = len(timeArray4)\n",
    "\n",
    "\n",
    "# vzorce viz. https://en.wikipedia.org/wiki/Student's_t-test#Exact_method_for_unequal_variances_and_sample_sizes\n",
    "tsA = x1-x2\n",
    "tsB = np.sqrt(((s1)/n1)+((s2)/n2))\n",
    "ts = tsA/tsB\n",
    "\n",
    "dofA = np.power((np.power(s1,2)/n1)+(np.power(s2,2)/n2),2)\n",
    "dofB = (np.power((np.power(s1,2)/n1), 2)/(n1-1))+(np.power((np.power(s2,2)/n2), 2)/(n2-1))\n",
    "dof = dofA/dofB\n",
    "\n",
    "\n",
    "print(\"t-statistika: \", ts)\n",
    "print(\"Dof: \", dof)\n",
    "\n",
    "# get p value\n",
    "pvalue = stats.t.cdf(ts, dof)\n",
    "print(\"P-hodnota: \", pvalue)"
   ]
  }
 ],
 "metadata": {
  "kernelspec": {
   "display_name": "Python 3",
   "language": "python",
   "name": "python3"
  },
  "language_info": {
   "codemirror_mode": {
    "name": "ipython",
    "version": 3
   },
   "file_extension": ".py",
   "mimetype": "text/x-python",
   "name": "python",
   "nbconvert_exporter": "python",
   "pygments_lexer": "ipython3",
   "version": "3.10.8"
  },
  "orig_nbformat": 4
 },
 "nbformat": 4,
 "nbformat_minor": 2
}
